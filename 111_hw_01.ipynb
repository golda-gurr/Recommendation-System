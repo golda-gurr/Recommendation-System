{
 "cells": [
  {
   "cell_type": "markdown",
   "metadata": {},
   "source": [
    "# Курс \"Рекомендательные системы\""
   ]
  },
  {
   "cell_type": "markdown",
   "metadata": {},
   "source": [
    "## Практическое задание урока 1.  Введение, примеры задач, бизнес- и ML-метрики"
   ]
  },
  {
   "cell_type": "markdown",
   "metadata": {},
   "source": [
    "### Задание 1\n",
    "\n",
    "Сравните метрики hit_rate@k, precision@k.   \n",
    "Какую метрику использовать предпочтительно и почему?  \n",
    "Приведите пример 2-3 задач (опишите, что является клиентом, что товаром), в которой более уместно использовать метрику hit_rate?"
   ]
  },
  {
   "cell_type": "markdown",
   "metadata": {},
   "source": [
    "**Решение**\n",
    "\n",
    "Hit rate@k = (был ли хотя бы 1 релевантный товар среди топ-k рекомендованных)\n",
    "\n",
    "\n",
    "*Precision* - доля релевантных товаров среди рекомендованных = Какой % рекомендованных товаров  юзер купил\n",
    "\n",
    "Precision@k = (# of recommended items @k that are relevant) / (# of recommended items @k)  \n",
    "Precision@k = (#@k (первые k) рекомендованных товаров, которые являются релевантными) / (#@k рекомендованных товаров)"
   ]
  },
  {
   "attachments": {
    "image.png": {
     "image/png": "[encoded data removed]"
    }
   },
   "cell_type": "markdown",
   "metadata": {},
   "source": [
    "![image.png](attachment:image.png)"
   ]
  },
  {
   "cell_type": "markdown",
   "metadata": {},
   "source": [
    "Метрику hit_rate@k предпочтительные использовать в случае рекомендации уникальных товаров. Это случаи, когда пользователь купил один из рекомендованных товаров, и другие уже не купит.  Например:\n",
    "\n",
    "1) ***Автомобили для пользования***\n",
    "\n",
    "Клиент - обычный человек, товар - обычный автомтобиль. Пользователь ищет автомобиль для личного пользования и в рекомедации было пять легковых автомобилей. Пользователь купил один из рекомендованных автомобилей. В этом случае предпочтительнее метрика Hit rate@k. \n",
    "\n",
    "Клиент - коммерческая организация, товар - автомобиль, подходящий для коммерческой эксплуатации.\n",
    "Клиент - коллекционер, товар - коллекционный автомобиль. \n",
    "С автомобилями могут быть иные ситуации. Если пользователю нужны автомобили для коммерческого использования или он является коллекционером (то есть потенциально может совершать покупки нескольких автомобилей сразу), то лучше подойдет метрика Precision@k.\n",
    "\n",
    "\n",
    "2) ***Новогодние елки***\n",
    "\n",
    "Клиент - обычный человек (нынешний или бывший гражданин России, СССР), товар - новогодняя ёлка.\n",
    "Метрика Hit_rate@k предпочтительнее, так как наиболее вероятно, что пользователь накануне российского календарного Нового года  купит одну ёлку. \n",
    "\n",
    "Клиент - бизнес HoReCa, товар - новогодняя ёлка.\n",
    "Могут быть случаи, когда приобретают несколько ёлок сразу и разных по размеру, оформлению (например, для компании гостинично-ресторанного бизнеса или для большого частного дома). Метрика Precision@k будет более релевантной.\n",
    "\n",
    "Возможно для ёлок одних категорий имеет смысл использовать Hit_rate@k, а для ёлок других категорий - Precision@k\n"
   ]
  },
  {
   "cell_type": "markdown",
   "metadata": {},
   "source": [
    "### Задание 2\n",
    "\n",
    "В метрике NDCG@k мы используем логарифм в знаменателе. Как Вы думаете, почему именно логарифм? Какую функцию можно использовать вместо логарифма? Привидите пример метрик/подходов к предобработке данных/функций ошибок в ML, где также в  логарифм."
   ]
  },
  {
   "cell_type": "markdown",
   "metadata": {},
   "source": [
    "**Решение**\n",
    "\n",
    "\n",
    "***NDCG@k (Normalized discounted cumulative gain)*** - Информативность выдачи с учетом ранжирования рекомендаций\n",
    "\n",
    "\n",
    "$$DCG = \\frac{1}{|r|} \\sum_u{\\frac{[bought fact]}{discount(i)}}$$  \n",
    "\n",
    "$discount(i) = 1$ if $i <= 2$,   \n",
    "$discount(i) = log_2(i)$ if $i > 2$\n",
    "\n",
    "\n",
    "(!) Считаем для первых k рекоммендаций   \n",
    "(!) - существуют вариации с другими $discount(i)$  \n",
    "i - ранк рекомендованного товара  \n",
    "|r| - кол-во рекомендованных товаров \n",
    "\n",
    "$$NDCG = \\frac{DCG}{ideal DCG}$$"
   ]
  },
  {
   "cell_type": "markdown",
   "metadata": {},
   "source": [
    "Рост логарифмической функции (с основанием больше 1) замедляется при увеличении значений. Поэтому её удобно использовать для ранжирования - позиции в начале списка отличаются гораздо сильнее, чем позиции в его конце. Следовательно, взамен логарифма можно использовать функцию с аналогичными свойствами, например, следующую:\n",
    "\n",
    "$y = \\sqrt[2k]{x}$\n",
    "\n",
    "Примером метрик/подходов к предобработке данных/функций ошибок в ML, где также используется логарифм, может быть:\n",
    "\n",
    "\n",
    "- _логистическая функция потерь_ $\\tilde{L}(M_{i}) = \\text{log}_{2}(1 + \\text{exp}(- M_{i}))$\n",
    "\n"
   ]
  },
  {
   "cell_type": "markdown",
   "metadata": {},
   "source": [
    "### Задание 3\n",
    "\n",
    "Какие еще метрики (Вы можете вспомнить уже пройденные Вами или посмотреть в интернете) могут использоваться для рекомендательных систем (приведите примеры метрики **и чем являются интеракции**, чтобы она могла быть использована)."
   ]
  },
  {
   "cell_type": "markdown",
   "metadata": {},
   "source": [
    "**Решение**\n",
    "\n",
    "***Среднеобратный ранг (MRR@k, Mean Reciprocal Rank)*** - одна из метрик качества ранжирования\n",
    "\n",
    "- Считаем для первых k рекомендаций\n",
    "- Найти ранг первого релевантного предсказания $k_u$\n",
    "- Посчитать reciprocal rank = $\\frac{1}{k_u}$ для u-го объекта. Величина, равная обратному рангу первого правильно угаданного элемента.\n",
    "\n",
    "Среднеобратный ранг определяется как среднее обратных рангов по всем запросам U:\n",
    "\n",
    "$$MRR = mean(\\frac{1}{k_u})$$\n",
    "\n",
    "Mean reciprocal rank изменяется в диапазоне [0,1] и учитывает позицию элементов. Он делает это только для одного элемента — 1-го верно предсказанного, не обращая внимания на все последующие.\n",
    "\n",
    "Результатом интеракции (взаимодействия пользователя и товара) может быть покупка товара, оценка товара пользователем."
   ]
  },
  {
   "attachments": {
    "image.png": {
     "image/png": "[encoded data removed]"
    }
   },
   "cell_type": "markdown",
   "metadata": {},
   "source": [
    "***PFound***\n",
    "\n",
    "Разработка Яндекс, которая используется для оценки качества ранжирования. Расчет PFound производится по такой формуле:\n",
    "\n",
    "![image.png](attachment:image.png)\n",
    "\n",
    "Где pLook[i] — вероятность просмотреть i-й документ из списка, а pRel[i] — вероятность того, что i-й документ окажется релевантным.\n",
    "\n",
    "Резульатом интеракции является просмотр документа пользователем."
   ]
  },
  {
   "cell_type": "markdown",
   "metadata": {},
   "source": [
    "### Задание 4\n",
    "\n",
    "boughted = [1, 3, 5, 7, 9, 11]  \n",
    "recommended = [2, 5, 7, 4, 11, 9, 8, 10, 12, 3]  \n",
    "Посчитайте на этих данных pr@8, rec@8, AP@8, NDCG@8, MRR@8,  \n",
    "Сначала поссчитайет \"руками\", а затем подтвердите рассчеты с помощью функций (некоторые были на семинаре, некоторые нужно будут написать самостоятельно)\n",
    "\n",
    "IDCG должен считаться для всех 8 позиций рекомендаций"
   ]
  },
  {
   "cell_type": "markdown",
   "metadata": {},
   "source": [
    "**Решение**"
   ]
  },
  {
   "cell_type": "code",
   "execution_count": 28,
   "metadata": {},
   "outputs": [],
   "source": [
    "import numpy as np"
   ]
  },
  {
   "cell_type": "code",
   "execution_count": 29,
   "metadata": {},
   "outputs": [],
   "source": [
    "boughted = [1, 3, 5, 7, 9, 11]\n",
    "recommended = [2, 5, 7, 4, 11, 9, 8, 10, 12, 3]"
   ]
  },
  {
   "cell_type": "markdown",
   "metadata": {},
   "source": [
    "***pr@8***\n",
    "\n",
    "boughted = [1, 3, 5, 7, 9, 11]\n",
    "\n",
    "recommended = [2, 5, 7, 4, 11, 9, 8, 10, 12, 3]\n",
    "\n",
    "$precison@8 = \\frac{0 + 0 + 1 + 1 + 1 + 1}{8} = 50\\%$ "
   ]
  },
  {
   "cell_type": "code",
   "execution_count": 30,
   "metadata": {},
   "outputs": [],
   "source": [
    "def precision_at_k(recommended_list, bought_list, k=5):\n",
    "    \n",
    "    bought_list = np.array(bought_list)\n",
    "    recommended_list = np.array(recommended_list)\n",
    "    \n",
    "    bought_list = bought_list  # Тут нет [:k] !!\n",
    "    recommended_list = recommended_list[:k]\n",
    "    \n",
    "    flags = np.isin(bought_list, recommended_list)\n",
    "    precision = flags.sum() / len(recommended_list)\n",
    "    \n",
    "    \n",
    "    return precision"
   ]
  },
  {
   "cell_type": "code",
   "execution_count": 31,
   "metadata": {},
   "outputs": [
    {
     "data": {
      "text/plain": [
       "0.5"
      ]
     },
     "execution_count": 31,
     "metadata": {},
     "output_type": "execute_result"
    }
   ],
   "source": [
    "precision_at_k(recommended, boughted, k=8)"
   ]
  },
  {
   "cell_type": "markdown",
   "metadata": {},
   "source": [
    "***rec@8***\n",
    "\n",
    "boughted = [1, 3, 5, 7, 9, 11]\n",
    "\n",
    "recommended = [2, 5, 7, 4, 11, 9, 8, 10, 12, 3]\n",
    "\n",
    "$rec@8 = \\frac{0 + 0 + 1 + 1 + 1 + 1}{6} = 66.7\\%$ "
   ]
  },
  {
   "cell_type": "code",
   "execution_count": 32,
   "metadata": {},
   "outputs": [],
   "source": [
    "def recall_at_k(recommended_list, bought_list, k=5):\n",
    "    bought_list = np.array(bought_list)\n",
    "    recommended_list = np.array(recommended_list)[:k]\n",
    "    \n",
    "    flags = np.isin(bought_list, recommended_list)\n",
    "    \n",
    "    recall = flags.sum() / len(bought_list)\n",
    "    \n",
    "    return recall"
   ]
  },
  {
   "cell_type": "code",
   "execution_count": 33,
   "metadata": {},
   "outputs": [
    {
     "data": {
      "text/plain": [
       "0.6666666666666666"
      ]
     },
     "execution_count": 33,
     "metadata": {},
     "output_type": "execute_result"
    }
   ],
   "source": [
    "recall_at_k(recommended, boughted, k=8)"
   ]
  },
  {
   "cell_type": "markdown",
   "metadata": {},
   "source": [
    "***AP@8***\n",
    "\n",
    "\n",
    "boughted = [1, 3, 5, 7, 9, 11]\n",
    "\n",
    "recommended = [2, 5, 7, 4, 11, 9, 8, 10, 12, 3]\n",
    "\n",
    "$precison@2 = \\frac{0 + 1}{2} = 50.0\\%$ \n",
    "\n",
    "$precison@3 = \\frac{0 + 1 + 1}{3} = 66.7\\%$ \n",
    "\n",
    "$precison@5 = \\frac{0 + 0 + 1 + 1 + 1}{5} = 60.0\\%$ \n",
    "\n",
    "$precison@6 = \\frac{0 + 0 + 1 + 1 + 1 + 1}{6} = 66.7\\%$ \n",
    "\n",
    "$AP@8 = \\frac{1/2 + 2/3 + 3/5 + 4/6}{8} = 30.4\\%$ "
   ]
  },
  {
   "cell_type": "code",
   "execution_count": 34,
   "metadata": {},
   "outputs": [],
   "source": [
    "def ap_k(recommended_list, bought_list, k=5):\n",
    "    \n",
    "    bought_list = np.array(bought_list)\n",
    "    recommended_list = np.array(recommended_list)[:k]\n",
    "    \n",
    "    flags = np.isin(recommended_list, bought_list)\n",
    "    \n",
    "    if sum(flags) == 0:\n",
    "        return 0\n",
    "    \n",
    "    sum_ = 0\n",
    "    for i in range(1, k+1): \n",
    "        if flags[i-1] == True:\n",
    "            p_k = precision_at_k(recommended_list, bought_list, k=i)\n",
    "            sum_ += p_k\n",
    "            \n",
    "    result = sum_ / len(flags)\n",
    "    \n",
    "    return result"
   ]
  },
  {
   "cell_type": "code",
   "execution_count": 35,
   "metadata": {},
   "outputs": [
    {
     "data": {
      "text/plain": [
       "0.30416666666666664"
      ]
     },
     "execution_count": 35,
     "metadata": {},
     "output_type": "execute_result"
    }
   ],
   "source": [
    "ap_k(recommended, boughted, k=8)"
   ]
  },
  {
   "cell_type": "code",
   "execution_count": 36,
   "metadata": {},
   "outputs": [
    {
     "data": {
      "text/plain": [
       "array([False,  True,  True, False,  True,  True, False, False, False,\n",
       "        True])"
      ]
     },
     "execution_count": 36,
     "metadata": {},
     "output_type": "execute_result"
    }
   ],
   "source": [
    "bought_list = np.array(boughted)\n",
    "recommended_list = np.array(recommended)\n",
    "\n",
    "flags = np.isin(recommended_list, bought_list)\n",
    "flags"
   ]
  },
  {
   "cell_type": "markdown",
   "metadata": {},
   "source": [
    "***NDCG@8***\n",
    "\n",
    "recommended = [2, 5, 7, 4, 11, 9, 8, 10, 12, 3]\n",
    "\n",
    "boughted = [1, 3, 5, 7, 9, 11]\n",
    "\n",
    "$DCG@8 = \\frac{1}{8}*(0 / 1 + 1 / log(2) + 1 / log(3) + 0 / log(4) + 1 / log(5) + 1 / log(6) + 0 / log(7) + 0 / log(8))= 30.61\\%$  \n",
    "$ideal DCG@8 = \\frac{1}{8}*(1 / 1 + 1 / log(2) + 1 / log(3) + 1 / log(4) + 1 / log(5) + 1 / log(6) + 1 / log(7) + 1 / log(8))= 57.97\\%$  \n",
    "\n",
    "$NDCG = \\frac{DCG}{ideal DCG}\\ = \\frac{0.3061}{0.5797} = 52.9\\%$"
   ]
  },
  {
   "cell_type": "code",
   "execution_count": 37,
   "metadata": {},
   "outputs": [],
   "source": [
    "import math"
   ]
  },
  {
   "cell_type": "code",
   "execution_count": 38,
   "metadata": {},
   "outputs": [
    {
     "data": {
      "text/plain": [
       "0.5797499549150934"
      ]
     },
     "execution_count": 38,
     "metadata": {},
     "output_type": "execute_result"
    }
   ],
   "source": [
    "ideal_DCG=(1/1+1/math.log(2, 2)+1/math.log(3, 2)+1/math.log(4, 2)+1/math.log(5, 2)+1/math.log(6, 2)+1/math.log(7, 2)+1/math.log(8, 2))/8\n",
    "ideal_DCG"
   ]
  },
  {
   "cell_type": "code",
   "execution_count": 39,
   "metadata": {},
   "outputs": [
    {
     "data": {
      "text/plain": [
       "0.306057389859924"
      ]
     },
     "execution_count": 39,
     "metadata": {},
     "output_type": "execute_result"
    }
   ],
   "source": [
    "DCG=(0/1+1/math.log(2, 2)+1/math.log(3, 2)+0/math.log(4, 2)+1/math.log(5, 2)+1/math.log(6, 2)+0/math.log(7, 2)+0/math.log(8, 2))/8\n",
    "DCG"
   ]
  },
  {
   "cell_type": "code",
   "execution_count": 40,
   "metadata": {},
   "outputs": [
    {
     "data": {
      "text/plain": [
       "0.527912744563727"
      ]
     },
     "execution_count": 40,
     "metadata": {},
     "output_type": "execute_result"
    }
   ],
   "source": [
    "nDCG = DCG / ideal_DCG\n",
    "nDCG "
   ]
  },
  {
   "cell_type": "code",
   "execution_count": 41,
   "metadata": {},
   "outputs": [],
   "source": [
    "def ndcg_at_k(recommended_list, bought_list, k=5):\n",
    "    \n",
    "    bought_list = np.array(bought_list)\n",
    "    recommended_list = np.array(recommended_list)[:k]\n",
    "    \n",
    "    bought_list = bought_list  # Тут нет [:k] !!\n",
    "    recommended_list = recommended_list[:k]\n",
    "    \n",
    "    flags = np.isin(recommended_list, bought_list)\n",
    "    \n",
    "    if sum(flags) == 0:\n",
    "        return 0\n",
    "    \n",
    "    sum_ = 0\n",
    "    \n",
    "    if flags[0] == True:\n",
    "        sum_ = 1\n",
    "    \n",
    "    for i in range(1, k):\n",
    "        if flags[i-1] == True:            \n",
    "            dcg_k = 1 / math.log(i, 2)\n",
    "            sum_ += dcg_k\n",
    "            \n",
    "            \n",
    "    result = sum_ / len(recommended_list)\n",
    "    \n",
    "    ideal_sum_ = 0\n",
    "    for i in range(1, k+1):\n",
    "        ideal_dcg = 1 / math.log(max(2,i), 2)\n",
    "        ideal_sum_ += ideal_dcg    \n",
    "      \n",
    "    ideal = ideal_sum_ / len(recommended_list)\n",
    "        \n",
    "    ndcg = result / ideal\n",
    "   \n",
    "    return ndcg, result, ideal"
   ]
  },
  {
   "cell_type": "code",
   "execution_count": 42,
   "metadata": {},
   "outputs": [
    {
     "data": {
      "text/plain": [
       "(0.527912744563727, 0.306057389859924, 0.5797499549150934)"
      ]
     },
     "execution_count": 42,
     "metadata": {},
     "output_type": "execute_result"
    }
   ],
   "source": [
    "ndcg_at_k(recommended, boughted, k=8)"
   ]
  },
  {
   "cell_type": "markdown",
   "metadata": {},
   "source": [
    "***MRR@8***\n",
    "\n",
    "recommended = [2, 5, 7, 4, 11, 9, 8, 10, 12, 3]\n",
    "\n",
    "boughted = [1, 3, 5, 7, 9, 11]\n",
    "\n",
    "$MRR@8 = \\frac{1/2 + 1/3 + 1/5 + 1/6}{8} = 15\\%$ "
   ]
  },
  {
   "cell_type": "code",
   "execution_count": 43,
   "metadata": {},
   "outputs": [],
   "source": [
    "def reciprocal_rank(recommended_list, bought_list, k=5):\n",
    "    recommended_list = recommended_list[:k]\n",
    "    \n",
    "    ranks=0.\n",
    "    for i, item_rec in enumerate(recommended_list):\n",
    "        for item_bought in bought_list:\n",
    "            if item_rec == item_bought:\n",
    "                ranks += 1 / (i+1)\n",
    "    return ranks / len(recommended_list)"
   ]
  },
  {
   "cell_type": "code",
   "execution_count": 44,
   "metadata": {},
   "outputs": [
    {
     "data": {
      "text/plain": [
       "0.15"
      ]
     },
     "execution_count": 44,
     "metadata": {},
     "output_type": "execute_result"
    }
   ],
   "source": [
    "reciprocal_rank(recommended, boughted, k=8)"
   ]
  },
  {
   "cell_type": "code",
   "execution_count": null,
   "metadata": {},
   "outputs": [],
   "source": []
  }
 ],
 "metadata": {
  "kernelspec": {
   "display_name": "Python 3",
   "language": "python",
   "name": "python3"
  },
  "language_info": {
   "codemirror_mode": {
    "name": "ipython",
    "version": 3
   },
   "file_extension": ".py",
   "mimetype": "text/x-python",
   "name": "python",
   "nbconvert_exporter": "python",
   "pygments_lexer": "ipython3",
   "version": "3.7.6"
  }
 },
 "nbformat": 4,
 "nbformat_minor": 4
}
